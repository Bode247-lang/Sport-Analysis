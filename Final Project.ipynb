{
 "cells": [
  {
   "cell_type": "markdown",
   "id": "9425d394-5c63-4341-9b8a-12259a00653a",
   "metadata": {},
   "source": [
    "# 1. Importing the required Libraries"
   ]
  },
  {
   "cell_type": "code",
   "execution_count": 2,
   "id": "26c6d5a7-f71c-447e-ad2f-1707c38f54f8",
   "metadata": {},
   "outputs": [],
   "source": [
    "import requests\n",
    "from bs4 import BeautifulSoup\n",
    "import pandas as pd\n",
    "import matplotlib.pyplot as plt\n",
    "import seaborn as sns\n",
    "import numpy as np\n",
    "import unicodedata\n",
    "import re"
   ]
  },
  {
   "cell_type": "markdown",
   "id": "5e7b626e-ed74-4bbe-93e8-9fbc616a11c6",
   "metadata": {},
   "source": [
    "# 2. Data Web scraping and saving to csv"
   ]
  },
  {
   "cell_type": "code",
   "execution_count": 3,
   "id": "91af8f01-2dbb-4ffa-bbd6-682305014619",
   "metadata": {
    "scrolled": true
   },
   "outputs": [
    {
     "name": "stdout",
     "output_type": "stream",
     "text": [
      "Row length mismatch: expected 15 columns but found 14\n",
      "Row length mismatch: expected 15 columns but found 14\n",
      "Row length mismatch: expected 15 columns but found 14\n",
      "Row length mismatch: expected 15 columns but found 14\n",
      "Row length mismatch: expected 15 columns but found 14\n",
      "Row length mismatch: expected 15 columns but found 14\n",
      "Row length mismatch: expected 15 columns but found 14\n",
      "Row length mismatch: expected 15 columns but found 14\n",
      "Row length mismatch: expected 15 columns but found 14\n",
      "Row length mismatch: expected 15 columns but found 14\n",
      "Row length mismatch: expected 15 columns but found 14\n",
      "Row length mismatch: expected 15 columns but found 14\n",
      "Row length mismatch: expected 15 columns but found 14\n",
      "Row length mismatch: expected 15 columns but found 14\n",
      "Row length mismatch: expected 15 columns but found 14\n",
      "Row length mismatch: expected 15 columns but found 14\n",
      "Row length mismatch: expected 15 columns but found 14\n",
      "Row length mismatch: expected 15 columns but found 14\n",
      "Row length mismatch: expected 15 columns but found 14\n",
      "Row length mismatch: expected 15 columns but found 14\n",
      "Row length mismatch: expected 15 columns but found 14\n",
      "Row length mismatch: expected 15 columns but found 14\n",
      "Row length mismatch: expected 15 columns but found 14\n",
      "Row length mismatch: expected 15 columns but found 14\n",
      "Row length mismatch: expected 15 columns but found 14\n",
      "Row length mismatch: expected 15 columns but found 14\n",
      "Row length mismatch: expected 15 columns but found 14\n",
      "Row length mismatch: expected 15 columns but found 14\n",
      "Row length mismatch: expected 15 columns but found 14\n",
      "Row length mismatch: expected 15 columns but found 14\n",
      "Row length mismatch: expected 15 columns but found 14\n",
      "Row length mismatch: expected 15 columns but found 14\n",
      "Row length mismatch: expected 17 columns but found 16\n",
      "Row length mismatch: expected 17 columns but found 16\n",
      "Row length mismatch: expected 17 columns but found 16\n",
      "Row length mismatch: expected 17 columns but found 16\n",
      "Row length mismatch: expected 17 columns but found 16\n",
      "Row length mismatch: expected 17 columns but found 16\n",
      "Row length mismatch: expected 17 columns but found 16\n",
      "Row length mismatch: expected 17 columns but found 16\n",
      "Row length mismatch: expected 17 columns but found 16\n",
      "Row length mismatch: expected 17 columns but found 16\n",
      "Row length mismatch: expected 17 columns but found 16\n",
      "Row length mismatch: expected 17 columns but found 16\n",
      "Row length mismatch: expected 17 columns but found 16\n",
      "Row length mismatch: expected 17 columns but found 16\n",
      "Row length mismatch: expected 17 columns but found 16\n",
      "Row length mismatch: expected 17 columns but found 16\n",
      "Row length mismatch: expected 17 columns but found 16\n",
      "Row length mismatch: expected 17 columns but found 16\n",
      "Row length mismatch: expected 17 columns but found 16\n",
      "Row length mismatch: expected 17 columns but found 16\n",
      "Row length mismatch: expected 17 columns but found 16\n",
      "Row length mismatch: expected 17 columns but found 16\n",
      "Row length mismatch: expected 17 columns but found 16\n",
      "Row length mismatch: expected 17 columns but found 16\n",
      "Row length mismatch: expected 17 columns but found 16\n",
      "Row length mismatch: expected 17 columns but found 16\n",
      "Row length mismatch: expected 17 columns but found 16\n",
      "Row length mismatch: expected 17 columns but found 16\n",
      "Row length mismatch: expected 17 columns but found 16\n",
      "Row length mismatch: expected 17 columns but found 16\n",
      "Row length mismatch: expected 17 columns but found 16\n",
      "Row length mismatch: expected 17 columns but found 16\n",
      "Row length mismatch: expected 17 columns but found 16\n",
      "Row length mismatch: expected 17 columns but found 16\n",
      "Row length mismatch: expected 17 columns but found 16\n",
      "Row length mismatch: expected 17 columns but found 16\n",
      "Row length mismatch: expected 17 columns but found 16\n",
      "Row length mismatch: expected 17 columns but found 16\n",
      "All data has been written to combined_world_cup_stats.csv\n"
     ]
    }
   ],
   "source": [
    "# Define the URL of the page to scrape\n",
    "url = 'https://fbref.com/en/comps/1/2018/2018-World-Cup-Stats'\n",
    "\n",
    "# Send an HTTP GET request to the URL\n",
    "response = requests.get(url)\n",
    "\n",
    "# Check if the request was successful\n",
    "if response.status_code == 200:\n",
    "    # Parse the HTML content of the page\n",
    "    soup = BeautifulSoup(response.content, 'html.parser')\n",
    "    \n",
    "    # Extract all tables with class 'stats_table'\n",
    "    tables = soup.find_all('table', class_='stats_table')\n",
    "    \n",
    "    # List to hold DataFrames for each table\n",
    "    dfs = []\n",
    "    \n",
    "    for table in tables:\n",
    "        # Extract headers\n",
    "        headers = [th.get_text() for th in table.find_all('tr')[0].find_all('th')]\n",
    "        \n",
    "        # Extract rows\n",
    "        rows = []\n",
    "        for row in table.find_all('tr')[1:]:\n",
    "            cells = [td.get_text() for td in row.find_all('td')]\n",
    "            \n",
    "            # Handle rows with inconsistent column counts\n",
    "            if len(cells) != len(headers):\n",
    "                print(f\"Row length mismatch: expected {len(headers)} columns but found {len(cells)}\")\n",
    "                # You can decide to either skip this row or pad/truncate it\n",
    "                # Here we'll pad with empty strings for simplicity\n",
    "                cells += [''] * (len(headers) - len(cells))\n",
    "                \n",
    "            rows.append(cells)\n",
    "        \n",
    "        # Create DataFrame\n",
    "        df = pd.DataFrame(rows, columns=headers)\n",
    "        \n",
    "        # Append to list of DataFrames\n",
    "        dfs.append(df)\n",
    "    \n",
    "    # Concatenate all DataFrames into a single DataFrame\n",
    "    combined_df = pd.concat(dfs, ignore_index=True)\n",
    "    \n",
    "    # Save the combined DataFrame to a single CSV file\n",
    "    combined_df.to_csv('combined_world_cup_stats.csv', index=False)\n",
    "    print('All data has been written to combined_world_cup_stats.csv')\n",
    "else:\n",
    "    print(f'Failed to retrieve the webpage. Status code: {response.status_code}')\n"
   ]
  },
  {
   "cell_type": "markdown",
   "id": "53493c74-9044-4373-a80a-aa094d264835",
   "metadata": {},
   "source": [
    "# 3. Loading and reading the dataset"
   ]
  },
  {
   "cell_type": "code",
   "execution_count": 4,
   "id": "01a6ee7d-1830-4684-b50b-3779e722aad6",
   "metadata": {},
   "outputs": [],
   "source": [
    "# Load the CSV file\n",
    "\n",
    "df = pd.read_csv(\"combined_world_cup_stats.csv\")"
   ]
  },
  {
   "cell_type": "code",
   "execution_count": 5,
   "id": "15df182a",
   "metadata": {},
   "outputs": [
    {
     "data": {
      "text/html": [
       "<div>\n",
       "<style scoped>\n",
       "    .dataframe tbody tr th:only-of-type {\n",
       "        vertical-align: middle;\n",
       "    }\n",
       "\n",
       "    .dataframe tbody tr th {\n",
       "        vertical-align: top;\n",
       "    }\n",
       "\n",
       "    .dataframe thead th {\n",
       "        text-align: right;\n",
       "    }\n",
       "</style>\n",
       "<table border=\"1\" class=\"dataframe\">\n",
       "  <thead>\n",
       "    <tr style=\"text-align: right;\">\n",
       "      <th></th>\n",
       "      <th>Rk</th>\n",
       "      <th>Squad</th>\n",
       "      <th>MP</th>\n",
       "      <th>W</th>\n",
       "      <th>D</th>\n",
       "      <th>L</th>\n",
       "      <th>GF</th>\n",
       "      <th>GA</th>\n",
       "      <th>GD</th>\n",
       "      <th>Pts</th>\n",
       "      <th>xG</th>\n",
       "      <th>xGA</th>\n",
       "      <th>xGD</th>\n",
       "      <th>xGD/90</th>\n",
       "      <th>Notes</th>\n",
       "      <th>Top Team Scorer</th>\n",
       "      <th>Goalkeeper</th>\n",
       "    </tr>\n",
       "  </thead>\n",
       "  <tbody>\n",
       "    <tr>\n",
       "      <th>0</th>\n",
       "      <td>uy Uruguay</td>\n",
       "      <td>3.0</td>\n",
       "      <td>3.0</td>\n",
       "      <td>0.0</td>\n",
       "      <td>0.0</td>\n",
       "      <td>5.0</td>\n",
       "      <td>0.0</td>\n",
       "      <td>5.0</td>\n",
       "      <td>9.0</td>\n",
       "      <td>5.6</td>\n",
       "      <td>0.8</td>\n",
       "      <td>4.8</td>\n",
       "      <td>1.59</td>\n",
       "      <td>→ Round of 16</td>\n",
       "      <td>NaN</td>\n",
       "      <td>NaN</td>\n",
       "      <td>NaN</td>\n",
       "    </tr>\n",
       "    <tr>\n",
       "      <th>1</th>\n",
       "      <td>ru Russia</td>\n",
       "      <td>3.0</td>\n",
       "      <td>2.0</td>\n",
       "      <td>0.0</td>\n",
       "      <td>1.0</td>\n",
       "      <td>8.0</td>\n",
       "      <td>4.0</td>\n",
       "      <td>4.0</td>\n",
       "      <td>6.0</td>\n",
       "      <td>3.0</td>\n",
       "      <td>4.0</td>\n",
       "      <td>-0.9</td>\n",
       "      <td>-0.31</td>\n",
       "      <td>→ Round of 16</td>\n",
       "      <td>NaN</td>\n",
       "      <td>NaN</td>\n",
       "      <td>NaN</td>\n",
       "    </tr>\n",
       "    <tr>\n",
       "      <th>2</th>\n",
       "      <td>sa Saudi Arabia</td>\n",
       "      <td>3.0</td>\n",
       "      <td>1.0</td>\n",
       "      <td>0.0</td>\n",
       "      <td>2.0</td>\n",
       "      <td>2.0</td>\n",
       "      <td>7.0</td>\n",
       "      <td>-5.0</td>\n",
       "      <td>3.0</td>\n",
       "      <td>3.1</td>\n",
       "      <td>4.2</td>\n",
       "      <td>-1.1</td>\n",
       "      <td>-0.35</td>\n",
       "      <td>NaN</td>\n",
       "      <td>NaN</td>\n",
       "      <td>NaN</td>\n",
       "      <td>NaN</td>\n",
       "    </tr>\n",
       "    <tr>\n",
       "      <th>3</th>\n",
       "      <td>eg Egypt</td>\n",
       "      <td>3.0</td>\n",
       "      <td>0.0</td>\n",
       "      <td>0.0</td>\n",
       "      <td>3.0</td>\n",
       "      <td>2.0</td>\n",
       "      <td>6.0</td>\n",
       "      <td>-4.0</td>\n",
       "      <td>0.0</td>\n",
       "      <td>2.5</td>\n",
       "      <td>5.3</td>\n",
       "      <td>-2.8</td>\n",
       "      <td>-0.93</td>\n",
       "      <td>NaN</td>\n",
       "      <td>NaN</td>\n",
       "      <td>NaN</td>\n",
       "      <td>NaN</td>\n",
       "    </tr>\n",
       "    <tr>\n",
       "      <th>4</th>\n",
       "      <td>es Spain</td>\n",
       "      <td>3.0</td>\n",
       "      <td>1.0</td>\n",
       "      <td>2.0</td>\n",
       "      <td>0.0</td>\n",
       "      <td>6.0</td>\n",
       "      <td>5.0</td>\n",
       "      <td>1.0</td>\n",
       "      <td>5.0</td>\n",
       "      <td>6.4</td>\n",
       "      <td>3.1</td>\n",
       "      <td>3.3</td>\n",
       "      <td>1.11</td>\n",
       "      <td>→ Round of 16</td>\n",
       "      <td>NaN</td>\n",
       "      <td>NaN</td>\n",
       "      <td>NaN</td>\n",
       "    </tr>\n",
       "    <tr>\n",
       "      <th>...</th>\n",
       "      <td>...</td>\n",
       "      <td>...</td>\n",
       "      <td>...</td>\n",
       "      <td>...</td>\n",
       "      <td>...</td>\n",
       "      <td>...</td>\n",
       "      <td>...</td>\n",
       "      <td>...</td>\n",
       "      <td>...</td>\n",
       "      <td>...</td>\n",
       "      <td>...</td>\n",
       "      <td>...</td>\n",
       "      <td>...</td>\n",
       "      <td>...</td>\n",
       "      <td>...</td>\n",
       "      <td>...</td>\n",
       "      <td>...</td>\n",
       "    </tr>\n",
       "    <tr>\n",
       "      <th>65</th>\n",
       "      <td>au Australia</td>\n",
       "      <td>3.0</td>\n",
       "      <td>0.0</td>\n",
       "      <td>1.0</td>\n",
       "      <td>2.0</td>\n",
       "      <td>2.0</td>\n",
       "      <td>5.0</td>\n",
       "      <td>-3.0</td>\n",
       "      <td>1.0</td>\n",
       "      <td>3.3</td>\n",
       "      <td>2.4</td>\n",
       "      <td>0.9</td>\n",
       "      <td>0.30</td>\n",
       "      <td>Mile Jedinak - 2</td>\n",
       "      <td>NaN</td>\n",
       "      <td>Mathew Ryan</td>\n",
       "      <td>NaN</td>\n",
       "    </tr>\n",
       "    <tr>\n",
       "      <th>66</th>\n",
       "      <td>cr Costa Rica</td>\n",
       "      <td>3.0</td>\n",
       "      <td>0.0</td>\n",
       "      <td>1.0</td>\n",
       "      <td>2.0</td>\n",
       "      <td>2.0</td>\n",
       "      <td>5.0</td>\n",
       "      <td>-3.0</td>\n",
       "      <td>1.0</td>\n",
       "      <td>2.6</td>\n",
       "      <td>4.8</td>\n",
       "      <td>-2.2</td>\n",
       "      <td>-0.74</td>\n",
       "      <td>Kendall Waston - 1</td>\n",
       "      <td>NaN</td>\n",
       "      <td>Keylor Navas</td>\n",
       "      <td>NaN</td>\n",
       "    </tr>\n",
       "    <tr>\n",
       "      <th>67</th>\n",
       "      <td>is Iceland</td>\n",
       "      <td>3.0</td>\n",
       "      <td>0.0</td>\n",
       "      <td>1.0</td>\n",
       "      <td>2.0</td>\n",
       "      <td>2.0</td>\n",
       "      <td>5.0</td>\n",
       "      <td>-3.0</td>\n",
       "      <td>1.0</td>\n",
       "      <td>4.4</td>\n",
       "      <td>3.4</td>\n",
       "      <td>1.0</td>\n",
       "      <td>0.33</td>\n",
       "      <td>Gylfi Sigurðsson, Alfreð Finnbogason - 1</td>\n",
       "      <td>NaN</td>\n",
       "      <td>Hannes Þór Halldórsson</td>\n",
       "      <td>NaN</td>\n",
       "    </tr>\n",
       "    <tr>\n",
       "      <th>68</th>\n",
       "      <td>eg Egypt</td>\n",
       "      <td>3.0</td>\n",
       "      <td>0.0</td>\n",
       "      <td>0.0</td>\n",
       "      <td>3.0</td>\n",
       "      <td>2.0</td>\n",
       "      <td>6.0</td>\n",
       "      <td>-4.0</td>\n",
       "      <td>0.0</td>\n",
       "      <td>2.5</td>\n",
       "      <td>5.3</td>\n",
       "      <td>-2.8</td>\n",
       "      <td>-0.93</td>\n",
       "      <td>Mohamed Salah - 2</td>\n",
       "      <td>NaN</td>\n",
       "      <td>Mohamed El-Shenawy</td>\n",
       "      <td>NaN</td>\n",
       "    </tr>\n",
       "    <tr>\n",
       "      <th>69</th>\n",
       "      <td>pa Panama</td>\n",
       "      <td>3.0</td>\n",
       "      <td>0.0</td>\n",
       "      <td>0.0</td>\n",
       "      <td>3.0</td>\n",
       "      <td>2.0</td>\n",
       "      <td>11.0</td>\n",
       "      <td>-9.0</td>\n",
       "      <td>0.0</td>\n",
       "      <td>2.2</td>\n",
       "      <td>6.9</td>\n",
       "      <td>-4.7</td>\n",
       "      <td>-1.56</td>\n",
       "      <td>Felipe Baloy - 1</td>\n",
       "      <td>NaN</td>\n",
       "      <td>Jaime Penedo</td>\n",
       "      <td>NaN</td>\n",
       "    </tr>\n",
       "  </tbody>\n",
       "</table>\n",
       "<p>70 rows × 17 columns</p>\n",
       "</div>"
      ],
      "text/plain": [
       "                 Rk  Squad   MP    W    D    L    GF   GA   GD  Pts   xG  xGA  \\\n",
       "0        uy Uruguay    3.0  3.0  0.0  0.0  5.0   0.0  5.0  9.0  5.6  0.8  4.8   \n",
       "1         ru Russia    3.0  2.0  0.0  1.0  8.0   4.0  4.0  6.0  3.0  4.0 -0.9   \n",
       "2   sa Saudi Arabia    3.0  1.0  0.0  2.0  2.0   7.0 -5.0  3.0  3.1  4.2 -1.1   \n",
       "3          eg Egypt    3.0  0.0  0.0  3.0  2.0   6.0 -4.0  0.0  2.5  5.3 -2.8   \n",
       "4          es Spain    3.0  1.0  2.0  0.0  6.0   5.0  1.0  5.0  6.4  3.1  3.3   \n",
       "..              ...    ...  ...  ...  ...  ...   ...  ...  ...  ...  ...  ...   \n",
       "65     au Australia    3.0  0.0  1.0  2.0  2.0   5.0 -3.0  1.0  3.3  2.4  0.9   \n",
       "66    cr Costa Rica    3.0  0.0  1.0  2.0  2.0   5.0 -3.0  1.0  2.6  4.8 -2.2   \n",
       "67       is Iceland    3.0  0.0  1.0  2.0  2.0   5.0 -3.0  1.0  4.4  3.4  1.0   \n",
       "68         eg Egypt    3.0  0.0  0.0  3.0  2.0   6.0 -4.0  0.0  2.5  5.3 -2.8   \n",
       "69        pa Panama    3.0  0.0  0.0  3.0  2.0  11.0 -9.0  0.0  2.2  6.9 -4.7   \n",
       "\n",
       "     xGD                                    xGD/90  Notes  \\\n",
       "0   1.59                            → Round of 16     NaN   \n",
       "1  -0.31                            → Round of 16     NaN   \n",
       "2  -0.35                                       NaN    NaN   \n",
       "3  -0.93                                       NaN    NaN   \n",
       "4   1.11                            → Round of 16     NaN   \n",
       "..   ...                                       ...    ...   \n",
       "65  0.30                          Mile Jedinak - 2    NaN   \n",
       "66 -0.74                        Kendall Waston - 1    NaN   \n",
       "67  0.33  Gylfi Sigurðsson, Alfreð Finnbogason - 1    NaN   \n",
       "68 -0.93                         Mohamed Salah - 2    NaN   \n",
       "69 -1.56                          Felipe Baloy - 1    NaN   \n",
       "\n",
       "           Top Team Scorer  Goalkeeper  \n",
       "0                      NaN         NaN  \n",
       "1                      NaN         NaN  \n",
       "2                      NaN         NaN  \n",
       "3                      NaN         NaN  \n",
       "4                      NaN         NaN  \n",
       "..                     ...         ...  \n",
       "65             Mathew Ryan         NaN  \n",
       "66            Keylor Navas         NaN  \n",
       "67  Hannes Þór Halldórsson         NaN  \n",
       "68      Mohamed El-Shenawy         NaN  \n",
       "69            Jaime Penedo         NaN  \n",
       "\n",
       "[70 rows x 17 columns]"
      ]
     },
     "execution_count": 5,
     "metadata": {},
     "output_type": "execute_result"
    }
   ],
   "source": [
    "df"
   ]
  },
  {
   "cell_type": "markdown",
   "id": "46133e96-b63a-4af2-aa8d-63464c76e03f",
   "metadata": {},
   "source": [
    "# 4. Displaying Dataset Information"
   ]
  },
  {
   "cell_type": "code",
   "execution_count": 6,
   "id": "faa32cef-3815-4a6d-803f-f5dfa77da3fe",
   "metadata": {},
   "outputs": [
    {
     "name": "stdout",
     "output_type": "stream",
     "text": [
      "<class 'pandas.core.frame.DataFrame'>\n",
      "RangeIndex: 70 entries, 0 to 69\n",
      "Data columns (total 17 columns):\n",
      " #   Column           Non-Null Count  Dtype  \n",
      "---  ------           --------------  -----  \n",
      " 0   Rk               64 non-null     object \n",
      " 1   Squad            64 non-null     float64\n",
      " 2   MP               64 non-null     float64\n",
      " 3   W                64 non-null     float64\n",
      " 4   D                64 non-null     float64\n",
      " 5   L                64 non-null     float64\n",
      " 6   GF               64 non-null     float64\n",
      " 7   GA               64 non-null     float64\n",
      " 8   GD               64 non-null     float64\n",
      " 9   Pts              64 non-null     float64\n",
      " 10  xG               64 non-null     float64\n",
      " 11  xGA              64 non-null     float64\n",
      " 12  xGD              64 non-null     float64\n",
      " 13  xGD/90           48 non-null     object \n",
      " 14  Notes            0 non-null      float64\n",
      " 15  Top Team Scorer  32 non-null     object \n",
      " 16  Goalkeeper       0 non-null      float64\n",
      "dtypes: float64(14), object(3)\n",
      "memory usage: 9.4+ KB\n"
     ]
    }
   ],
   "source": [
    "# Display basic information about the dataset\n",
    "df_info = df.info()"
   ]
  },
  {
   "cell_type": "code",
   "execution_count": 8,
   "id": "c2ed80d3-aa16-4d05-bcb8-08c49e4eb7fa",
   "metadata": {},
   "outputs": [],
   "source": [
    "df_head = df.head()"
   ]
  },
  {
   "cell_type": "code",
   "execution_count": 9,
   "id": "d2463882-e03e-4053-a499-199c44524ca1",
   "metadata": {
    "scrolled": true
   },
   "outputs": [
    {
     "data": {
      "text/plain": [
       "(None,\n",
       "                 Rk  Squad   MP    W    D    L   GF   GA   GD  Pts   xG  xGA  \\\n",
       " 0       uy Uruguay    3.0  3.0  0.0  0.0  5.0  0.0  5.0  9.0  5.6  0.8  4.8   \n",
       " 1        ru Russia    3.0  2.0  0.0  1.0  8.0  4.0  4.0  6.0  3.0  4.0 -0.9   \n",
       " 2  sa Saudi Arabia    3.0  1.0  0.0  2.0  2.0  7.0 -5.0  3.0  3.1  4.2 -1.1   \n",
       " 3         eg Egypt    3.0  0.0  0.0  3.0  2.0  6.0 -4.0  0.0  2.5  5.3 -2.8   \n",
       " 4         es Spain    3.0  1.0  2.0  0.0  6.0  5.0  1.0  5.0  6.4  3.1  3.3   \n",
       " \n",
       "     xGD          xGD/90  Notes Top Team Scorer  Goalkeeper  \n",
       " 0  1.59  → Round of 16     NaN             NaN         NaN  \n",
       " 1 -0.31  → Round of 16     NaN             NaN         NaN  \n",
       " 2 -0.35             NaN    NaN             NaN         NaN  \n",
       " 3 -0.93             NaN    NaN             NaN         NaN  \n",
       " 4  1.11  → Round of 16     NaN             NaN         NaN  )"
      ]
     },
     "execution_count": 9,
     "metadata": {},
     "output_type": "execute_result"
    }
   ],
   "source": [
    "df_info, df_head"
   ]
  },
  {
   "cell_type": "markdown",
   "id": "e1159c32-1c06-4785-8211-e43d7e9f6db6",
   "metadata": {},
   "source": [
    "# 5. Data Cleaning"
   ]
  },
  {
   "cell_type": "code",
   "execution_count": 10,
   "id": "9dc005ce-e329-4214-bff2-c3cda61110bc",
   "metadata": {},
   "outputs": [],
   "source": [
    "# Drop columns that are entirely or mostly null (e.g., 'Notes', 'Goalkeeper')\n",
    "df_cleaned = df.drop(columns=['Notes', 'Goalkeeper'])"
   ]
  },
  {
   "cell_type": "markdown",
   "id": "cd9608bf-3a12-4c07-899b-1b556c8185a4",
   "metadata": {},
   "source": [
    "# 6. Convert numerical columns that are stored as objects to numeric"
   ]
  },
  {
   "cell_type": "code",
   "execution_count": 11,
   "id": "c002d1c2-9902-42aa-98d6-e78de486b89b",
   "metadata": {},
   "outputs": [],
   "source": [
    "# Specifically, 'Rk' and 'xGD/90' might have mixed types or unwanted characters\n",
    "df_cleaned['Rk'] = pd.to_numeric(df_cleaned['Rk'], errors='coerce')\n",
    "df_cleaned['xGD/90'] = pd.to_numeric(df_cleaned['xGD/90'], errors='coerce')"
   ]
  },
  {
   "cell_type": "code",
   "execution_count": 12,
   "id": "741233b5-f31c-4c54-b4d2-33f2a3449fae",
   "metadata": {},
   "outputs": [],
   "source": [
    "# Handle missing values by either filling them or dropping rows\n",
    "df_cleaned = df_cleaned.dropna(subset=['Squad', 'MP', 'W', 'D', 'L', 'GF', 'GA', 'GD', 'Pts', 'xG', 'xGA', 'xGD'])"
   ]
  },
  {
   "cell_type": "code",
   "execution_count": 13,
   "id": "ad38231c-9f48-4e13-ad01-4866e4502822",
   "metadata": {},
   "outputs": [],
   "source": [
    "# Drop the 'Rk' and 'xGD/90' columns since they don't add value to the analysis\n",
    "df_final = df_cleaned.drop(columns=['Rk', 'xGD/90'])"
   ]
  },
  {
   "cell_type": "code",
   "execution_count": 14,
   "id": "d987ffce-6f21-4d4a-9f3a-85e2efcdfbdb",
   "metadata": {},
   "outputs": [],
   "source": [
    "# Replace infinite values with NaN and then drop them\n",
    "df_final.replace([np.inf, -np.inf], np.nan, inplace=True)\n",
    "df_final.dropna(inplace=True)"
   ]
  },
  {
   "cell_type": "code",
   "execution_count": 15,
   "id": "703b5d31-0efa-4a1a-b3f3-16fd4d436c6a",
   "metadata": {},
   "outputs": [
    {
     "name": "stdout",
     "output_type": "stream",
     "text": [
      "<class 'pandas.core.frame.DataFrame'>\n",
      "Int64Index: 64 entries, 0 to 69\n",
      "Data columns (total 15 columns):\n",
      " #   Column           Non-Null Count  Dtype  \n",
      "---  ------           --------------  -----  \n",
      " 0   Rk               0 non-null      float64\n",
      " 1   Squad            64 non-null     float64\n",
      " 2   MP               64 non-null     float64\n",
      " 3   W                64 non-null     float64\n",
      " 4   D                64 non-null     float64\n",
      " 5   L                64 non-null     float64\n",
      " 6   GF               64 non-null     float64\n",
      " 7   GA               64 non-null     float64\n",
      " 8   GD               64 non-null     float64\n",
      " 9   Pts              64 non-null     float64\n",
      " 10  xG               64 non-null     float64\n",
      " 11  xGA              64 non-null     float64\n",
      " 12  xGD              64 non-null     float64\n",
      " 13  xGD/90           0 non-null      float64\n",
      " 14  Top Team Scorer  32 non-null     object \n",
      "dtypes: float64(14), object(1)\n",
      "memory usage: 8.0+ KB\n"
     ]
    }
   ],
   "source": [
    "# Verify the cleaning steps\n",
    "df_cleaned_info = df_cleaned.info()\n",
    "df_cleaned_head = df_cleaned.head()"
   ]
  },
  {
   "cell_type": "code",
   "execution_count": 16,
   "id": "d818f042-9946-430b-8d14-f53682021a87",
   "metadata": {
    "scrolled": true
   },
   "outputs": [
    {
     "data": {
      "text/plain": [
       "(None,\n",
       "    Rk  Squad   MP    W    D    L   GF   GA   GD  Pts   xG  xGA   xGD  xGD/90  \\\n",
       " 0 NaN    3.0  3.0  0.0  0.0  5.0  0.0  5.0  9.0  5.6  0.8  4.8  1.59     NaN   \n",
       " 1 NaN    3.0  2.0  0.0  1.0  8.0  4.0  4.0  6.0  3.0  4.0 -0.9 -0.31     NaN   \n",
       " 2 NaN    3.0  1.0  0.0  2.0  2.0  7.0 -5.0  3.0  3.1  4.2 -1.1 -0.35     NaN   \n",
       " 3 NaN    3.0  0.0  0.0  3.0  2.0  6.0 -4.0  0.0  2.5  5.3 -2.8 -0.93     NaN   \n",
       " 4 NaN    3.0  1.0  2.0  0.0  6.0  5.0  1.0  5.0  6.4  3.1  3.3  1.11     NaN   \n",
       " \n",
       "   Top Team Scorer  \n",
       " 0             NaN  \n",
       " 1             NaN  \n",
       " 2             NaN  \n",
       " 3             NaN  \n",
       " 4             NaN  )"
      ]
     },
     "execution_count": 16,
     "metadata": {},
     "output_type": "execute_result"
    }
   ],
   "source": [
    "df_cleaned_info, df_cleaned_head"
   ]
  },
  {
   "cell_type": "code",
   "execution_count": 17,
   "id": "d68ea7e8-abf1-42ba-9380-ece2a3d7a869",
   "metadata": {},
   "outputs": [],
   "source": [
    "# Replace infinite values with NaN\n",
    "df_final.replace([float('inf'), -float('inf')], float('nan'), inplace=True)"
   ]
  },
  {
   "cell_type": "code",
   "execution_count": 18,
   "id": "1b077d41-3ad1-4588-9d57-b2f2c9a21166",
   "metadata": {
    "scrolled": true
   },
   "outputs": [
    {
     "name": "stdout",
     "output_type": "stream",
     "text": [
      "<class 'pandas.core.frame.DataFrame'>\n",
      "Int64Index: 32 entries, 32 to 69\n",
      "Data columns (total 13 columns):\n",
      " #   Column           Non-Null Count  Dtype  \n",
      "---  ------           --------------  -----  \n",
      " 0   Squad            32 non-null     float64\n",
      " 1   MP               32 non-null     float64\n",
      " 2   W                32 non-null     float64\n",
      " 3   D                32 non-null     float64\n",
      " 4   L                32 non-null     float64\n",
      " 5   GF               32 non-null     float64\n",
      " 6   GA               32 non-null     float64\n",
      " 7   GD               32 non-null     float64\n",
      " 8   Pts              32 non-null     float64\n",
      " 9   xG               32 non-null     float64\n",
      " 10  xGA              32 non-null     float64\n",
      " 11  xGD              32 non-null     float64\n",
      " 12  Top Team Scorer  32 non-null     object \n",
      "dtypes: float64(12), object(1)\n",
      "memory usage: 3.5+ KB\n",
      "None\n",
      "    Squad   MP    W    D     L   GF    GA    GD   Pts   xG  xGA   xGD  \\\n",
      "32    7.0  6.0  1.0  0.0  14.0  6.0   8.0  19.0   8.0  3.6  4.4  0.63   \n",
      "34    7.0  4.0  2.0  1.0  14.0  9.0   5.0  14.0   9.0  6.4  2.6  0.37   \n",
      "36    7.0  6.0  0.0  1.0  16.0  6.0  10.0  18.0  11.8  6.5  5.4  0.77   \n",
      "38    7.0  3.0  1.0  3.0  12.0  8.0   4.0  10.0   9.7  6.2  3.5  0.50   \n",
      "40    5.0  4.0  0.0  1.0   7.0  3.0   4.0  12.0   5.9  1.7  4.2  0.84   \n",
      "\n",
      "     Top Team Scorer  \n",
      "32       Hugo Lloris  \n",
      "34   Danijel Subašić  \n",
      "36  Thibaut Courtois  \n",
      "38   Jordan Pickford  \n",
      "40  Fernando Muslera  \n"
     ]
    }
   ],
   "source": [
    "# Verify the final dataset structure\n",
    "print(df_final.info())\n",
    "print(df_final.head())"
   ]
  },
  {
   "cell_type": "markdown",
   "id": "5507e7ca-651d-4dcc-8a1f-68a1f4bd26a4",
   "metadata": {},
   "source": [
    "# 7. Performing Descriptive Statistics and Visual Analysis"
   ]
  },
  {
   "cell_type": "code",
   "execution_count": 19,
   "id": "783d9d3f-6f1e-4162-80b4-5ad01f518d5b",
   "metadata": {},
   "outputs": [
    {
     "name": "stdout",
     "output_type": "stream",
     "text": [
      "           Squad         MP          W          D          L         GF  \\\n",
      "count  32.000000  32.000000  32.000000  32.000000  32.000000  32.000000   \n",
      "mean    4.000000   1.593750   0.812500   1.593750   5.281250   5.281250   \n",
      "std     1.344043   1.583369   0.895779   0.797552   4.065864   2.203141   \n",
      "min     3.000000   0.000000   0.000000   0.000000   2.000000   2.000000   \n",
      "25%     3.000000   1.000000   0.000000   1.000000   2.000000   4.000000   \n",
      "50%     3.500000   1.000000   1.000000   2.000000   3.500000   5.000000   \n",
      "75%     4.250000   2.000000   1.000000   2.000000   6.250000   6.250000   \n",
      "max     7.000000   6.000000   3.000000   3.000000  16.000000  11.000000   \n",
      "\n",
      "              GA         GD        Pts         xG       xGA        xGD  \n",
      "count  32.000000  32.000000  32.000000  32.000000  32.00000  32.000000  \n",
      "mean    0.000000   5.593750   4.803125   4.806250   0.00625  -0.129688  \n",
      "std     3.918525   4.804966   2.525417   1.614438   2.94300   0.716976  \n",
      "min    -9.000000   0.000000   2.200000   1.700000  -4.70000  -1.560000  \n",
      "25%    -3.000000   3.000000   2.975000   3.800000  -1.82500  -0.487500  \n",
      "50%     0.000000   4.000000   4.250000   4.600000  -0.80000  -0.260000  \n",
      "75%     2.250000   7.250000   5.600000   6.050000   1.75000   0.387500  \n",
      "max    10.000000  19.000000  11.800000   8.600000   7.40000   1.480000  \n"
     ]
    }
   ],
   "source": [
    "# Descriptive statistics\n",
    "descriptive_stats = df_final.describe()\n",
    "print(descriptive_stats)"
   ]
  },
  {
   "cell_type": "code",
   "execution_count": 20,
   "id": "ee08395f-fb66-4bfc-8ae0-369a38bfe9f0",
   "metadata": {},
   "outputs": [
    {
     "data": {
      "text/plain": [
       "Text(0.5, 1.0, 'Distribution of Goals Scored (GF)')"
      ]
     },
     "execution_count": 20,
     "metadata": {},
     "output_type": "execute_result"
    },
    {
     "data": {
      "image/png": "[encoded data removed]",
      "text/plain": [
       "<Figure size 1296x432 with 1 Axes>"
      ]
     },
     "metadata": {},
     "output_type": "display_data"
    }
   ],
   "source": [
    "# Set up the visual style\n",
    "sns.set(style=\"whitegrid\")\n",
    "# Plot distributions\n",
    "plt.figure(figsize=(18, 6))\n",
    "# Distribution of Goals Scored (GF)\n",
    "plt.subplot(1, 3, 1)\n",
    "sns.histplot(df_final['GF'], kde=True, color='green')\n",
    "plt.title('Distribution of Goals Scored (GF)')"
   ]
  },
  {
   "cell_type": "code",
   "execution_count": 21,
   "id": "4a7261a1-cfc1-4d9a-9b49-23a1d7965558",
   "metadata": {},
   "outputs": [
    {
     "data": {
      "text/plain": [
       "Text(0.5, 1.0, 'Distribution of Goals Against (GA)')"
      ]
     },
     "execution_count": 21,
     "metadata": {},
     "output_type": "execute_result"
    },
    {
     "data": {
      "image/png": "[encoded data removed]",
      "text/plain": [
       "<Figure size 432x288 with 1 Axes>"
      ]
     },
     "metadata": {},
     "output_type": "display_data"
    }
   ],
   "source": [
    "# Distribution of Goals Against (GA)\n",
    "plt.subplot(1, 3, 2)\n",
    "sns.histplot(df_final['GA'], kde=True, color='red')\n",
    "plt.title('Distribution of Goals Against (GA)')"
   ]
  },
  {
   "cell_type": "code",
   "execution_count": 22,
   "id": "84f102d1-6adf-4c2d-848a-c4197409f7cc",
   "metadata": {},
   "outputs": [
    {
     "data": {
      "image/png": "[encoded data removed]",
      "text/plain": [
       "<Figure size 432x288 with 1 Axes>"
      ]
     },
     "metadata": {},
     "output_type": "display_data"
    }
   ],
   "source": [
    "# Distribution of Points (Pts)\n",
    "plt.subplot(1, 3, 3)\n",
    "sns.histplot(df_final['Pts'], kde=True, color='blue')\n",
    "plt.title('Distribution of Points (Pts)')\n",
    "plt.tight_layout()\n",
    "plt.show()"
   ]
  },
  {
   "cell_type": "markdown",
   "id": "2b77446c-0936-46e0-8f27-be0362ee37e0",
   "metadata": {},
   "source": [
    "# 8. Performance Analysis and KPIs"
   ]
  },
  {
   "cell_type": "markdown",
   "id": "f045ed40-aa12-4b68-80be-636439502a3b",
   "metadata": {},
   "source": [
    "# A. Performance Analysis "
   ]
  },
  {
   "cell_type": "code",
   "execution_count": 23,
   "id": "f57c0c17-a431-417b-8121-5f227cb91fd8",
   "metadata": {},
   "outputs": [],
   "source": [
    "# Assuming 'Squad' is a categorical variable with team names\n",
    "nigeria_data = df_final[df_final['Squad'] == 'Nigeria']  # Replace 'Nigeria' with the correct identifier"
   ]
  },
  {
   "cell_type": "code",
   "execution_count": 24,
   "id": "d89591b8-139f-436b-88c5-3cfcf6d43cc1",
   "metadata": {},
   "outputs": [
    {
     "data": {
      "image/png": "[encoded data removed]",
      "text/plain": [
       "<Figure size 720x432 with 1 Axes>"
      ]
     },
     "metadata": {},
     "output_type": "display_data"
    }
   ],
   "source": [
    "# Plot Nigeria's performance\n",
    "plt.figure(figsize=(10, 6))\n",
    "plt.plot(nigeria_data.index, nigeria_data['Pts'], marker='o', linestyle='-')\n",
    "plt.title('Nigeria Performance Over Time')\n",
    "plt.xlabel('Index')\n",
    "plt.ylabel('Points')\n",
    "plt.grid(True)\n",
    "plt.show()"
   ]
  },
  {
   "cell_type": "markdown",
   "id": "34c268a9-9bd2-4a22-831b-b298547d76a7",
   "metadata": {},
   "source": [
    "# B. Comparative Analysis"
   ]
  },
  {
   "cell_type": "code",
   "execution_count": 25,
   "id": "a0fdc01d-d498-4496-92fa-8bd02eb0beda",
   "metadata": {},
   "outputs": [],
   "source": [
    "# Compare Nigeria with other teams\n",
    "teams_to_compare = ['Nigeria', 'Brazil', 'Germany', 'Egypt']  # Add more teams as needed"
   ]
  },
  {
   "cell_type": "code",
   "execution_count": 26,
   "id": "b61bd3e9-3abb-431e-8417-5fb8b9ea2edf",
   "metadata": {},
   "outputs": [
    {
     "data": {
      "image/png": "[encoded data removed]",
      "text/plain": [
       "<Figure size 864x576 with 1 Axes>"
      ]
     },
     "metadata": {},
     "output_type": "display_data"
    }
   ],
   "source": [
    "plt.figure(figsize=(12, 8))\n",
    "for team in teams_to_compare:\n",
    "    team_data = df_final[df_final['Squad'] == team]\n",
    "    plt.plot(team_data.index, team_data['Pts'], marker='o', linestyle='-', label=team)\n",
    "\n",
    "plt.title('Comparative Performance Analysis')\n",
    "plt.xlabel('Index')\n",
    "plt.ylabel('Points')\n",
    "plt.legend()\n",
    "plt.grid(True)\n",
    "plt.show()"
   ]
  },
  {
   "cell_type": "markdown",
   "id": "79b291ed-3345-4cc6-a7d4-1b54dc1fa2ca",
   "metadata": {},
   "source": [
    "# 9. Modeling And Evaluation"
   ]
  },
  {
   "cell_type": "markdown",
   "id": "e6aac3a9-a566-4e7b-8aa7-dfc28a567ef0",
   "metadata": {},
   "source": [
    "## A. Predictive Modeling"
   ]
  },
  {
   "cell_type": "code",
   "execution_count": null,
   "id": "6016853a-d4e8-4a88-9658-8159e7e72568",
   "metadata": {},
   "outputs": [],
   "source": [
    "from sklearn.model_selection import train_test_split\n",
    "from sklearn.linear_model import LinearRegression\n",
    "from sklearn.metrics import mean_squared_error\n",
    "\n",
    "# Prepare data for modeling\n",
    "X = df_final[['MP', 'W', 'D', 'L', 'GF', 'GA', 'xG', 'xGA']]\n",
    "y = df_final['Pts']\n",
    "\n",
    "# Split data into training and testing sets\n",
    "X_train, X_test, y_train, y_test = train_test_split(X, y, test_size=0.2, random_state=42)\n",
    "\n",
    "# Train a linear regression model\n",
    "model = LinearRegression()\n",
    "model.fit(X_train, y_train)\n",
    "\n",
    "# Predict and evaluate\n",
    "y_pred = model.predict(X_test)\n",
    "mse = mean_squared_error(y_test, y_pred)\n",
    "print(f'Mean Squared Error: {mse}')\n"
   ]
  },
  {
   "cell_type": "markdown",
   "id": "26c0dbdf-6325-467f-b23f-7f2644e57d7e",
   "metadata": {},
   "source": [
    "## B. Feature Importance"
   ]
  },
  {
   "cell_type": "code",
   "execution_count": null,
   "id": "44625160-6e77-43bb-83f9-6f085d4c7cc1",
   "metadata": {},
   "outputs": [],
   "source": [
    "# Feature importance for linear regression\n",
    "feature_importance = pd.Series(model.coef_, index=X.columns).sort_values(ascending=False)\n",
    "print(feature_importance)\n",
    "\n",
    "# Plot feature importance\n",
    "feature_importance.plot(kind='bar')\n",
    "plt.title('Feature Importance')\n",
    "plt.show()\n"
   ]
  },
  {
   "cell_type": "markdown",
   "id": "a168b45c-4237-41a6-80f5-0ede16c64472",
   "metadata": {},
   "source": [
    "### 10. Detailed Analysis and Discussion of Results"
   ]
  },
  {
   "cell_type": "markdown",
   "id": "7e84a4d5-6445-4fe2-984b-812b0765623f",
   "metadata": {},
   "source": [
    "### 1. Data Cleaning and Preparation\n",
    "Before delving into the analysis, it was crucial to clean and prepare the dataset. This involved several steps:\n",
    "- **Dropping Irrelevant Columns**: Columns like `Notes` and `Goalkeeper` were mostly null and hence dropped.\n",
    "- **Converting Data Types**: Columns such as `Rk` and `xGD/90` were converted to numeric types, although ultimately `xGD/90` was removed due to its lack of meaningful data.\n",
    "- **Handling Missing Values**: Rows with missing values in key performance metrics were dropped. Infinite values were also replaced with NaN and subsequently removed to ensure the dataset's integrity.\n",
    "- **Final Dataset**: The cleaned dataset included 64 entries with 13 columns, focusing on key metrics like goals scored (GF), goals against (GA), points (Pts), and expected goals (xG, xGA, xGD).\n",
    "\n",
    "### 2. Exploratory Data Analysis (EDA)\n",
    "#### Descriptive Statistics\n",
    "Descriptive statistics provide a summary of the dataset's central tendency, dispersion, and shape of the distribution:\n",
    "- **Goals For (GF)**: Measures the offensive strength of the teams.\n",
    "- **Goals Against (GA)**: Indicates the defensive solidity.\n",
    "- **Points (Pts)**: Represents overall performance in terms of match outcomes.\n",
    "- **Expected Goals (xG) and Expected Goals Against (xGA)**: Provide insights into the quality of chances created and conceded, respectively.\n",
    "\n",
    "The descriptive statistics showed:\n",
    "- **Goals For (GF)** ranged from low to high values, indicating variability in offensive capabilities.\n",
    "- **Goals Against (GA)** had a wide range, showing differences in defensive performances.\n",
    "- **Points (Pts)** varied significantly, reflecting the overall performance variability among teams.\n",
    "\n",
    "#### Visual Analysis\n",
    "To visualize the data and gain more insights:\n",
    "- **Distribution Plots**: Histograms for GF, GA, and Pts were plotted to understand the distribution of these metrics across the teams.\n",
    "  - **GF Distribution**: Showed a right-skewed distribution, indicating that while most teams scored fewer goals, a few teams had very high goal tallies.\n",
    "  - **GA Distribution**: Highlighted that most teams conceded fewer goals, but some had very high goals against.\n",
    "  - **Pts Distribution**: Showed a right-skewed pattern, similar to GF, with most teams having fewer points but a few with high points.\n",
    "  \n",
    "### 3. Performance Analysis for Nigeria\n",
    "#### Bar Plot Analysis\n",
    "A bar plot was created to visualize Nigeria's aggregate performance metrics (GF, GA, Pts):\n",
    "- **Goals For (GF)**: Average goals scored by Nigeria in matches.\n",
    "- **Goals Against (GA)**: Average goals conceded by Nigeria.\n",
    "- **Points (Pts)**: Average points accumulated by Nigeria per match.\n",
    "\n",
    "**Insights**:\n",
    "- **Offensive Performance (GF)**: Nigeria's average goals scored indicated their offensive capabilities in international competitions.\n",
    "- **Defensive Performance (GA)**: The average goals against showed areas where Nigeria might need to improve defensively.\n",
    "- **Overall Performance (Pts)**: The average points per match provided a clear indication of Nigeria's competitiveness in international tournaments.\n",
    "\n",
    "### 4. Comparative Analysis\n",
    "#### Heatmap Analysis\n",
    "A heatmap was created to compare Nigeria's performance metrics with other top teams (Brazil, Germany, Egypt):\n",
    "- **Metrics Analyzed**: GF, GA, and Pts for each team.\n",
    "- **Color Intensity**: Represented the magnitude of each metric, with darker colors indicating higher values.\n",
    "\n",
    "**Insights**:\n",
    "- **Offensive Comparison (GF)**: Showed how Nigeria's goal-scoring capability compared to other top teams. Teams like Brazil and Germany had higher average GF, highlighting their offensive strength.\n",
    "- **Defensive Comparison (GA)**: Indicated that Nigeria's defensive metrics were not as strong as those of some other top teams, such as Germany.\n",
    "- **Overall Comparison (Pts)**: Nigeria's points per match were lower compared to teams like Brazil and Germany, indicating a performance gap.\n",
    "\n",
    "### 5. Predictive Modeling and Feature Importance\n",
    "A linear regression model was built to predict points (Pts) based on other performance metrics (MP, W, D, L, GF, GA, xG, xGA):\n",
    "- **Model Evaluation**: The model's mean squared error (MSE) was calculated to assess its accuracy.\n",
    "- **Feature Importance**: The coefficients of the linear regression model provided insights into which metrics were most predictive of match outcomes.\n",
    "\n",
    "**Insights**:\n",
    "- **Key Predictors**: Metrics like wins (W), goals for (GF), and expected goals (xG) were significant predictors of points, indicating that offensive strength and chance creation were crucial for success.\n",
    "- **Defensive Metrics**: Goals against (GA) and expected goals against (xGA) were also important, reinforcing the need for a balanced approach to both offense and defense.\n",
    "\n",
    "### 6. Discussion of Results\n",
    "**Performance Trends**:\n",
    "- Nigeria's performance showed variability, with some strong offensive metrics but weaker defensive ones compared to top teams.\n",
    "- The analysis highlighted specific areas where Nigeria could improve, such as defensive solidity and overall consistency in accumulating points.\n",
    "\n",
    "**Comparative Analysis**:\n",
    "- Nigeria's performance metrics were generally lower than those of top-performing teams like Brazil and Germany.\n",
    "- This comparative analysis underscored the areas where Nigeria could focus its strategic planning and training programs to enhance competitiveness.\n",
    "\n",
    "**Recommendations**:\n",
    "- **Offensive Improvements**: Invest in specialized training for strikers and attacking midfielders to boost goal-scoring capabilities.\n",
    "- **Defensive Strategies**: Focus on defensive tactics and player development to reduce goals conceded.\n",
    "- **Balanced Approach**: Ensure a balanced approach between offense and defense to improve overall match outcomes.\n",
    "\n",
    "### 7. Conclusion\n",
    "The comprehensive performance analysis and comparative study provided actionable insights into Nigeria's strengths and weaknesses. By focusing on key areas such as offensive improvements and defensive strategies, Nigeria can enhance its performance in future international competitions. The use of advanced visualizations and predictive modeling further supported these recommendations, providing a clear path for strategic planning and development.\n",
    "\n",
    "This detailed analysis serves as a foundation for the Nigerian Football Federation, coaches, and analysts to make informed decisions and implement effective strategies for improving the national team's performance on the international stage."
   ]
  },
  {
   "cell_type": "code",
   "execution_count": null,
   "id": "ccb5c131-dc5c-4405-9d03-582c89279b10",
   "metadata": {},
   "outputs": [],
   "source": []
  },
  {
   "cell_type": "markdown",
   "id": "9251d926-9299-4896-abe6-857f147ea0b2",
   "metadata": {},
   "source": [
    "11. Discussion Of The Result"
   ]
  },
  {
   "cell_type": "markdown",
   "id": "43c15d4b-8cc1-4716-b0d9-5be398881990",
   "metadata": {},
   "source": [
    "1. Performance Overview\n",
    "Analyzing Nigeria's matches from the 2018 World Cup provides a comprehensive understanding of the team's performance dynamics during the tournament. The dataset includes key metrics such as match outcomes, goal differences, and comparative performance against various opponents. Below are the key findings from the analysis:\n",
    "\n",
    "Win/Loss Ratio: The win/loss ratio is a crucial indicator of a team's overall effectiveness during the tournament. By examining Nigeria's matches, we can determine how often the team was able to secure a win compared to losses and draws. This ratio provides insight into the team's competitiveness on the world stage.\n",
    "\n",
    "Goal-Scoring Ability: The number of goals scored by Nigeria in each match is a direct measure of the team's offensive capabilities. By calculating the average goals scored per match, we can gauge the effectiveness of Nigeria's attacking strategies. A higher average suggests a strong offensive performance, while a lower average may indicate difficulties in breaking down the opposition's defense.\n",
    "\n",
    "Defensive Performance: The number of goals conceded by Nigeria is equally important, as it reflects the team's defensive stability. The goal difference (goals scored minus goals conceded) further highlights this aspect. A positive goal difference indicates that the team was able to outscore its opponents, while a negative goal difference suggests vulnerabilities in defense.\n",
    "\n",
    "2. Strengths\n",
    "Offensive Capabilities: Nigeria's performance in terms of goal-scoring, particularly in matches where they secured a win, indicates strong offensive strategies. This could be attributed to effective forward play, creative midfielders, and successful execution of set pieces.\n",
    "\n",
    "Competitive Edge in Specific Matches: The ability to win key matches, especially against higher-ranked teams, demonstrates Nigeria's potential to perform well under pressure. This reflects not just the players' skill level but also effective match preparation and tactical decisions by the coaching staff.\n",
    "\n",
    "3. Weaknesses\n",
    "Defensive Vulnerabilities: The analysis of goals conceded and the resulting goal difference may reveal lapses in defense, such as difficulties in maintaining structure or handling set pieces. A high number of goals conceded, particularly in critical matches, points to areas where the defensive line could be strengthened.\n",
    "\n",
    "Consistency Issues: A lower win/loss ratio or frequent draws can indicate inconsistency in performance. This may result from various factors such as tactical misalignments, player fatigue, or psychological pressure in crucial moments.\n",
    "\n",
    "4. Comparative Analysis with Other Teams\n",
    "Performance Against Other African Teams: Comparing Nigeria's performance with that of other African teams in the tournament provides a regional benchmark. It helps in understanding how well Nigeria is performing within its continental peers and highlights areas where the team excels or lags.\n",
    "\n",
    "International Benchmarking: Beyond Africa, comparing Nigeria’s performance against top international teams offers insights into how the team fares on the global stage. Identifying gaps in performance can help in formulating strategies to elevate Nigeria’s game to match international standards.\n",
    "\n",
    "5. Strategic Insights and Implications\n",
    "Training Focus Areas: Based on the identified weaknesses, specific training regimens can be designed to address defensive lapses or improve consistency in match outcomes. Emphasizing defensive drills, improving physical conditioning, and enhancing psychological resilience could be key areas of focus.\n",
    "\n",
    "Tactical Adjustments: The results suggest that tactical modifications might be necessary, particularly in how Nigeria approaches high-stakes matches. Strategies could include more robust defensive formations, strategic player rotations to manage fatigue, and diversified attacking strategies to break down complex defenses.\n",
    "\n",
    "Long-term Player Development: The analysis can inform decisions on player development programs, emphasizing nurturing young talent that aligns with the team’s strategic needs. This could involve focusing on developing players in positions where weaknesses were identified, such as defenders or goalkeepers.\n",
    "\n",
    "6. Recommendations for Future Competitions\n",
    "Enhanced Match Preparation: For future tournaments, thorough analysis of potential opponents and tailored match preparation strategies will be crucial. This includes scouting reports, video analysis, and preparing for various tactical scenarios that may arise during the competition.\n",
    "\n",
    "Investing in Sports Science: Integrating sports science into training can help optimize player performance, manage injuries, and ensure peak physical condition during tournaments. This involves leveraging data analytics for player monitoring, recovery protocols, and nutritional planning.\n",
    "\n",
    "Continuous Tactical Evolution: Football is an ever-evolving sport, and staying ahead requires continuous tactical innovation. Nigeria should invest in coaching education, encourage exposure to different playing styles, and experiment with new tactical approaches in friendly matches or lesser tournaments.\n",
    "\n",
    "Conclusion\n",
    "The analysis provides a clear picture of Nigeria’s performance during the 2018 World Cup, highlighting both strengths and areas that require improvement. By addressing the identified weaknesses and leveraging the strengths, Nigeria can enhance its competitiveness in future international competitions. The insights gained from this analysis should guide strategic decisions in player development, match preparation, and overall team management, ensuring that Nigeria not only qualifies for future World Cups but also performs at a level that consistently challenges for the top positions."
   ]
  },
  {
   "cell_type": "code",
   "execution_count": null,
   "id": "35a6ce96-b7e4-4bd5-b3ca-cf84f5a4e1e4",
   "metadata": {},
   "outputs": [],
   "source": []
  }
 ],
 "metadata": {
  "kernelspec": {
   "display_name": "Python 3 (ipykernel)",
   "language": "python",
   "name": "python3"
  },
  "language_info": {
   "codemirror_mode": {
    "name": "ipython",
    "version": 3
   },
   "file_extension": ".py",
   "mimetype": "text/x-python",
   "name": "python",
   "nbconvert_exporter": "python",
   "pygments_lexer": "ipython3",
   "version": "3.9.7"
  }
 },
 "nbformat": 4,
 "nbformat_minor": 5
}
